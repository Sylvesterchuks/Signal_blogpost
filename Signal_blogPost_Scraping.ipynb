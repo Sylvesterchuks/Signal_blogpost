{
  "nbformat": 4,
  "nbformat_minor": 0,
  "metadata": {
    "colab": {
      "name": "Signal_blogPost_Scraping.ipynb",
      "provenance": [],
      "collapsed_sections": [],
      "authorship_tag": "ABX9TyNe5JjsHPaBMKiF7ZrI8tiB",
      "include_colab_link": true
    },
    "kernelspec": {
      "name": "python3",
      "display_name": "Python 3"
    },
    "language_info": {
      "name": "python"
    }
  },
  "cells": [
    {
      "cell_type": "markdown",
      "metadata": {
        "id": "view-in-github",
        "colab_type": "text"
      },
      "source": [
        "<a href=\"https://colab.research.google.com/github/Sylvesterchuks/PagesNotFound/blob/main/Signal_blogPost_Scraping.ipynb\" target=\"_parent\"><img src=\"https://colab.research.google.com/assets/colab-badge.svg\" alt=\"Open In Colab\"/></a>"
      ]
    },
    {
      "cell_type": "markdown",
      "metadata": {
        "id": "07NvZIyiX0nO"
      },
      "source": [
        "# A Scraping Project"
      ]
    },
    {
      "cell_type": "markdown",
      "metadata": {
        "id": "s5E0m25EX-Y_"
      },
      "source": [
        "## In this project we are going to scrape a popular blog site for information about the posts on the blog.\n",
        "  * Create a dataset of blog posts on a popular blog e.g. https://m.signalvnoise.com/search/ .\n",
        "  * The dataset can contain information like the blog title, published date, tags, author, link to blog post, etc."
      ]
    },
    {
      "cell_type": "code",
      "metadata": {
        "id": "Opf48wZDxfHI"
      },
      "source": [
        "# import the needed libraries\n",
        "\n",
        "import requests\n",
        "from bs4 import BeautifulSoup\n",
        "import time\n",
        "import datetime "
      ],
      "execution_count": 1,
      "outputs": []
    },
    {
      "cell_type": "code",
      "metadata": {
        "id": "ULJ6Xj2jxedn"
      },
      "source": [
        ""
      ],
      "execution_count": 1,
      "outputs": []
    },
    {
      "cell_type": "markdown",
      "metadata": {
        "id": "t7eI3FoY6Vsw"
      },
      "source": [
        "### Retrieve information from the web"
      ]
    },
    {
      "cell_type": "code",
      "metadata": {
        "id": "6fVwW2N_4OkJ"
      },
      "source": [
        "urls = 'https://m.signalvnoise.com/search/'\n",
        "\n",
        "resp = requests.get(urls)\n",
        "resp.raise_for_status()"
      ],
      "execution_count": 2,
      "outputs": []
    },
    {
      "cell_type": "markdown",
      "metadata": {
        "id": "Qfch3Qb26hb2"
      },
      "source": [
        "### Using Beautiful to render the Html"
      ]
    },
    {
      "cell_type": "code",
      "metadata": {
        "id": "OXftS7VI4hL6"
      },
      "source": [
        "soups = BeautifulSoup(resp.content,'lxml')"
      ],
      "execution_count": 3,
      "outputs": []
    },
    {
      "cell_type": "code",
      "metadata": {
        "id": "VDhUAuMF3Q36"
      },
      "source": [
        "blog_list = soups.find('ul',class_='archives')"
      ],
      "execution_count": 4,
      "outputs": []
    },
    {
      "cell_type": "code",
      "metadata": {
        "id": "agLKoo1N5NLH"
      },
      "source": [
        "blog_list_links = [link.a['href'] for link in blog_list.find_all('li')]"
      ],
      "execution_count": 5,
      "outputs": []
    },
    {
      "cell_type": "code",
      "metadata": {
        "id": "sGB1upyO5O-g"
      },
      "source": [
        "blog_page_num = [int(num.text[-3:].strip('()')) for num in blog_list.find_all('li')]"
      ],
      "execution_count": 6,
      "outputs": []
    },
    {
      "cell_type": "code",
      "metadata": {
        "colab": {
          "base_uri": "https://localhost:8080/"
        },
        "id": "yFQwGB1-5205",
        "outputId": "53c85b15-98ea-4b57-cf1d-0b964d023d17"
      },
      "source": [
        "blog_page_num"
      ],
      "execution_count": 7,
      "outputs": [
        {
          "output_type": "execute_result",
          "data": {
            "text/plain": [
              "[1,\n",
              " 1,\n",
              " 3,\n",
              " 5,\n",
              " 4,\n",
              " 2,\n",
              " 6,\n",
              " 6,\n",
              " 1,\n",
              " 4,\n",
              " 7,\n",
              " 2,\n",
              " 8,\n",
              " 8,\n",
              " 10,\n",
              " 9,\n",
              " 9,\n",
              " 9,\n",
              " 17,\n",
              " 11,\n",
              " 9,\n",
              " 11,\n",
              " 8,\n",
              " 9,\n",
              " 26,\n",
              " 9,\n",
              " 10,\n",
              " 9,\n",
              " 8,\n",
              " 7,\n",
              " 8,\n",
              " 8,\n",
              " 5,\n",
              " 10,\n",
              " 10,\n",
              " 13,\n",
              " 25,\n",
              " 20,\n",
              " 20,\n",
              " 17,\n",
              " 20,\n",
              " 21,\n",
              " 24,\n",
              " 19,\n",
              " 35,\n",
              " 16,\n",
              " 28,\n",
              " 29,\n",
              " 25,\n",
              " 22,\n",
              " 19,\n",
              " 15,\n",
              " 28,\n",
              " 25,\n",
              " 21,\n",
              " 27,\n",
              " 30,\n",
              " 16,\n",
              " 28,\n",
              " 16,\n",
              " 22,\n",
              " 20,\n",
              " 9,\n",
              " 7,\n",
              " 18,\n",
              " 1,\n",
              " 1]"
            ]
          },
          "metadata": {},
          "execution_count": 7
        }
      ]
    },
    {
      "cell_type": "code",
      "metadata": {
        "id": "_7wgf7KO_fQ_"
      },
      "source": [
        "from math import ceil"
      ],
      "execution_count": 8,
      "outputs": []
    },
    {
      "cell_type": "code",
      "metadata": {
        "colab": {
          "base_uri": "https://localhost:8080/"
        },
        "id": "4WFVvtIR_6_B",
        "outputId": "dedf4871-2c27-4d9e-fdd4-7a98311c77f7"
      },
      "source": [
        "blog_list_links[:10]"
      ],
      "execution_count": 9,
      "outputs": [
        {
          "output_type": "execute_result",
          "data": {
            "text/plain": [
              "['https://m.signalvnoise.com/2021/02/',\n",
              " 'https://m.signalvnoise.com/2021/01/',\n",
              " 'https://m.signalvnoise.com/2020/12/',\n",
              " 'https://m.signalvnoise.com/2020/10/',\n",
              " 'https://m.signalvnoise.com/2020/09/',\n",
              " 'https://m.signalvnoise.com/2020/08/',\n",
              " 'https://m.signalvnoise.com/2020/07/',\n",
              " 'https://m.signalvnoise.com/2020/06/',\n",
              " 'https://m.signalvnoise.com/2020/05/',\n",
              " 'https://m.signalvnoise.com/2020/04/']"
            ]
          },
          "metadata": {},
          "execution_count": 9
        }
      ]
    },
    {
      "cell_type": "code",
      "metadata": {
        "colab": {
          "base_uri": "https://localhost:8080/"
        },
        "id": "GIcDKJzAIGtP",
        "outputId": "d7b4f0a3-7f3f-4b32-de7e-890ad17263d9"
      },
      "source": [
        "blog_page_num[:5]"
      ],
      "execution_count": 10,
      "outputs": [
        {
          "output_type": "execute_result",
          "data": {
            "text/plain": [
              "[1, 1, 3, 5, 4]"
            ]
          },
          "metadata": {},
          "execution_count": 10
        }
      ]
    },
    {
      "cell_type": "code",
      "metadata": {
        "id": "3-W4r7IQDQwu"
      },
      "source": [
        "import pandas as pd"
      ],
      "execution_count": 11,
      "outputs": []
    },
    {
      "cell_type": "markdown",
      "metadata": {
        "id": "lxCR6Mr06zqm"
      },
      "source": [
        "### Combining all the codes and using a for statement to iterate through each link from the blog website"
      ]
    },
    {
      "cell_type": "code",
      "metadata": {
        "id": "ypO2aXFZ6j_S"
      },
      "source": [
        "title = [] \n",
        "author = [] \n",
        "date_posted = [] \n",
        "summary = []\n",
        "post_link  = []\n",
        "for num, link in zip(blog_page_num,blog_list_links):\n",
        "  if num < 10:\n",
        "    url_link = link\n",
        "\n",
        "    respond = requests.get(url_link)\n",
        "    respond.raise_for_status()\n",
        "\n",
        "    soups = BeautifulSoup(respond.content,'lxml')\n",
        "    section = soups.find_all('article', class_='entry-summary grid__item grid__item--third')\n",
        "    for blog in section:\n",
        "      title.append(blog.find('h2').text)\n",
        "      author.append(blog.find('div').find('span', class_='byline').text)\n",
        "      date_posted.append(blog.find('div').find('time', class_='entry-date published updated').text)\n",
        "      summary.append(blog.find('p').text.split('.')[0])\n",
        "      post_link.append(blog.find('h2').a['href'])\n",
        "  else:\n",
        "    page_num = ceil(num/10)\n",
        "    for i in range(1,page_num+1):\n",
        "      url_link = f'{link}page/{i}/'\n",
        "\n",
        "\n",
        "      respond = requests.get(url_link)\n",
        "      respond.raise_for_status()\n",
        "\n",
        "      soups = BeautifulSoup(respond.content,'lxml')\n",
        "      section = soups.find_all('article', class_='entry-summary grid__item grid__item--third')\n",
        "      for blog in section:\n",
        "        try:\n",
        "          title.append(blog.find('h2').text)\n",
        "        except:\n",
        "          title.append('No title')\n",
        "        try:\n",
        "          author.append(blog.find('div').find('span', class_='byline').text)\n",
        "        except:\n",
        "          author.append('No author')\n",
        "        date_posted.append(blog.find('div').find('time', class_='entry-date published updated').text)\n",
        "        summary.append(blog.find('p').text.split('.')[0])\n",
        "        try:\n",
        "          post_link.append(blog.find('h2').a['href'])\n",
        "        except:\n",
        "          post_link.append('No link')\n",
        "# post_dict = {'Date Posted': date_posted, 'Title':title, 'Author': author, 'Description': summary, 'Post link': post_link}\n",
        "\n",
        "    "
      ],
      "execution_count": 12,
      "outputs": []
    },
    {
      "cell_type": "markdown",
      "metadata": {
        "id": "nzGfiUi07Ev2"
      },
      "source": [
        "### Assign the lists to a dictionary"
      ]
    },
    {
      "cell_type": "code",
      "metadata": {
        "id": "l9gd_0o1LDUx"
      },
      "source": [
        "post_dict = {'Date Posted': date_posted, 'Title':title, 'Author': author, 'Description': summary, 'Post link': post_link}"
      ],
      "execution_count": 13,
      "outputs": []
    },
    {
      "cell_type": "markdown",
      "metadata": {
        "id": "-SuOP9Mz7aw2"
      },
      "source": [
        "### Export it to CSV using Pandas function"
      ]
    },
    {
      "cell_type": "code",
      "metadata": {
        "id": "Oh6GUQ2MEaV5"
      },
      "source": [
        "signal_noise = pd.DataFrame(post_dict)\n",
        "signal_noise.to_csv('Blog_posts.csv',encoding='utf-8',index=False)\n"
      ],
      "execution_count": 14,
      "outputs": []
    },
    {
      "cell_type": "code",
      "metadata": {
        "id": "3O0gKkal7m6O"
      },
      "source": [
        ""
      ],
      "execution_count": 14,
      "outputs": []
    }
  ]
}