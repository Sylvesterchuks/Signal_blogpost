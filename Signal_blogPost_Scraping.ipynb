{
  "nbformat": 4,
  "nbformat_minor": 0,
  "metadata": {
    "colab": {
      "name": "Signal_blogPost_Scraping.ipynb",
      "provenance": [],
      "collapsed_sections": [],
      "authorship_tag": "ABX9TyN8MA/uCaQzueqaJx25GQFG",
      "include_colab_link": true
    },
    "kernelspec": {
      "name": "python3",
      "display_name": "Python 3"
    },
    "language_info": {
      "name": "python"
    }
  },
  "cells": [
    {
      "cell_type": "markdown",
      "metadata": {
        "id": "view-in-github",
        "colab_type": "text"
      },
      "source": [
        "<a href=\"https://colab.research.google.com/github/Sylvesterchuks/Signal_blogpost/blob/main/Signal_blogPost_Scraping.ipynb\" target=\"_parent\"><img src=\"https://colab.research.google.com/assets/colab-badge.svg\" alt=\"Open In Colab\"/></a>"
      ]
    },
    {
      "cell_type": "markdown",
      "metadata": {
        "id": "07NvZIyiX0nO"
      },
      "source": [
        "# A Scraping Project"
      ]
    },
    {
      "cell_type": "markdown",
      "metadata": {
        "id": "s5E0m25EX-Y_"
      },
      "source": [
        "## In this project we are going to scrape a popular blog site for information about the posts on the blog.\n",
        "  * Create a dataset of blog posts on a popular blog e.g. https://m.signalvnoise.com/search/ .\n",
        "  * The dataset can contain information like the blog title, published date, tags, author, link to blog post, etc."
      ]
    },
    {
      "cell_type": "code",
      "metadata": {
        "id": "Opf48wZDxfHI"
      },
      "source": [
        "# import the needed libraries\n",
        "\n",
        "import requests\n",
        "from bs4 import BeautifulSoup\n",
        "import time\n",
        "import datetime "
      ],
      "execution_count": 1,
      "outputs": []
    },
    {
      "cell_type": "code",
      "metadata": {
        "id": "ULJ6Xj2jxedn"
      },
      "source": [
        ""
      ],
      "execution_count": 1,
      "outputs": []
    },
    {
      "cell_type": "markdown",
      "metadata": {
        "id": "t7eI3FoY6Vsw"
      },
      "source": [
        "### Retrieve information from the web"
      ]
    },
    {
      "cell_type": "code",
      "metadata": {
        "id": "6fVwW2N_4OkJ"
      },
      "source": [
        "urls = 'https://m.signalvnoise.com/search/'\n",
        "\n",
        "resp = requests.get(urls)\n",
        "resp.raise_for_status()"
      ],
      "execution_count": 2,
      "outputs": []
    },
    {
      "cell_type": "markdown",
      "metadata": {
        "id": "Qfch3Qb26hb2"
      },
      "source": [
        "### Using Beautiful to render the Html"
      ]
    },
    {
      "cell_type": "code",
      "metadata": {
        "id": "OXftS7VI4hL6"
      },
      "source": [
        "soups = BeautifulSoup(resp.content,'lxml')"
      ],
      "execution_count": 3,
      "outputs": []
    },
    {
      "cell_type": "code",
      "metadata": {
        "id": "VDhUAuMF3Q36"
      },
      "source": [
        "blog_list = soups.find('ul',class_='archives')"
      ],
      "execution_count": 4,
      "outputs": []
    },
    {
      "cell_type": "code",
      "metadata": {
        "id": "agLKoo1N5NLH"
      },
      "source": [
        "blog_list_links = [link.a['href'] for link in blog_list.find_all('li')]"
      ],
      "execution_count": 5,
      "outputs": []
    },
    {
      "cell_type": "code",
      "metadata": {
        "id": "sGB1upyO5O-g"
      },
      "source": [
        "blog_page_num = [int(num.text[-3:].strip('()')) for num in blog_list.find_all('li')]"
      ],
      "execution_count": 6,
      "outputs": []
    },
    {
      "cell_type": "code",
      "metadata": {
        "colab": {
          "base_uri": "https://localhost:8080/"
        },
        "id": "yFQwGB1-5205",
        "outputId": "c1106f72-7278-4232-bab5-c5c3a3a0923a"
      },
      "source": [
        "blog_page_num[:10]"
      ],
      "execution_count": 7,
      "outputs": [
        {
          "output_type": "execute_result",
          "data": {
            "text/plain": [
              "[1, 1, 3, 5, 4, 2, 6, 6, 1, 4]"
            ]
          },
          "metadata": {},
          "execution_count": 7
        }
      ]
    },
    {
      "cell_type": "code",
      "metadata": {
        "id": "_7wgf7KO_fQ_"
      },
      "source": [
        "from math import ceil"
      ],
      "execution_count": 8,
      "outputs": []
    },
    {
      "cell_type": "code",
      "metadata": {
        "colab": {
          "base_uri": "https://localhost:8080/"
        },
        "id": "4WFVvtIR_6_B",
        "outputId": "5b1a19b5-59e3-4b8e-8f59-fb51ef373b89"
      },
      "source": [
        "blog_list_links[:10]"
      ],
      "execution_count": 9,
      "outputs": [
        {
          "output_type": "execute_result",
          "data": {
            "text/plain": [
              "['https://m.signalvnoise.com/2021/02/',\n",
              " 'https://m.signalvnoise.com/2021/01/',\n",
              " 'https://m.signalvnoise.com/2020/12/',\n",
              " 'https://m.signalvnoise.com/2020/10/',\n",
              " 'https://m.signalvnoise.com/2020/09/',\n",
              " 'https://m.signalvnoise.com/2020/08/',\n",
              " 'https://m.signalvnoise.com/2020/07/',\n",
              " 'https://m.signalvnoise.com/2020/06/',\n",
              " 'https://m.signalvnoise.com/2020/05/',\n",
              " 'https://m.signalvnoise.com/2020/04/']"
            ]
          },
          "metadata": {},
          "execution_count": 9
        }
      ]
    },
    {
      "cell_type": "code",
      "metadata": {
        "colab": {
          "base_uri": "https://localhost:8080/"
        },
        "id": "GIcDKJzAIGtP",
        "outputId": "1eab80dd-1e30-45ec-e85d-736c3698dbe1"
      },
      "source": [
        "blog_page_num[:5]"
      ],
      "execution_count": 10,
      "outputs": [
        {
          "output_type": "execute_result",
          "data": {
            "text/plain": [
              "[1, 1, 3, 5, 4]"
            ]
          },
          "metadata": {},
          "execution_count": 10
        }
      ]
    },
    {
      "cell_type": "code",
      "metadata": {
        "id": "3-W4r7IQDQwu"
      },
      "source": [
        "import pandas as pd"
      ],
      "execution_count": 11,
      "outputs": []
    },
    {
      "cell_type": "markdown",
      "metadata": {
        "id": "lxCR6Mr06zqm"
      },
      "source": [
        "### Combining all the codes and using a for statement to iterate through each link from the blog website"
      ]
    },
    {
      "cell_type": "code",
      "metadata": {
        "id": "ypO2aXFZ6j_S"
      },
      "source": [
        "title = [] \n",
        "author = [] \n",
        "date_posted = [] \n",
        "summary = []\n",
        "post_link  = []\n",
        "for num, link in zip(blog_page_num,blog_list_links):\n",
        "  if num < 10:\n",
        "    url_link = link\n",
        "\n",
        "    respond = requests.get(url_link)\n",
        "    respond.raise_for_status()\n",
        "\n",
        "    soups = BeautifulSoup(respond.content,'lxml')\n",
        "    section = soups.find_all('article', class_='entry-summary grid__item grid__item--third')\n",
        "    for blog in section:\n",
        "      title.append(blog.find('h2').text)\n",
        "      author.append(blog.find('div').find('span', class_='byline').text)\n",
        "      date_posted.append(blog.find('div').find('time', class_='entry-date published updated').text)\n",
        "      summary.append(blog.find('p').text.split('.')[0])\n",
        "      post_link.append(blog.find('h2').a['href'])\n",
        "  else:\n",
        "    page_num = ceil(num/10)\n",
        "    for i in range(1,page_num+1):\n",
        "      url_link = f'{link}page/{i}/'\n",
        "\n",
        "\n",
        "      respond = requests.get(url_link)\n",
        "      respond.raise_for_status()\n",
        "\n",
        "      soups = BeautifulSoup(respond.content,'lxml')\n",
        "      section = soups.find_all('article', class_='entry-summary grid__item grid__item--third')\n",
        "      for blog in section:\n",
        "        try:\n",
        "          title.append(blog.find('h2').text)\n",
        "        except:\n",
        "          title.append('No title')\n",
        "        try:\n",
        "          author.append(blog.find('div').find('span', class_='byline').text)\n",
        "        except:\n",
        "          author.append('No author')\n",
        "        date_posted.append(blog.find('div').find('time', class_='entry-date published updated').text)\n",
        "        summary.append(blog.find('p').text.split('.')[0])\n",
        "        try:\n",
        "          post_link.append(blog.find('h2').a['href'])\n",
        "        except:\n",
        "          post_link.append('No link')\n",
        "# post_dict = {'Date Posted': date_posted, 'Title':title, 'Author': author, 'Description': summary, 'Post link': post_link}\n",
        "\n",
        "    "
      ],
      "execution_count": 12,
      "outputs": []
    },
    {
      "cell_type": "code",
      "metadata": {
        "colab": {
          "base_uri": "https://localhost:8080/"
        },
        "id": "rJa0DaJOx1du",
        "outputId": "abc6c8ce-6750-478d-ba04-9da755c3e8a6"
      },
      "source": [
        "from google.colab import drive\n",
        "drive.mount('/content/drive')"
      ],
      "execution_count": 13,
      "outputs": [
        {
          "output_type": "stream",
          "name": "stdout",
          "text": [
            "Mounted at /content/drive\n"
          ]
        }
      ]
    },
    {
      "cell_type": "markdown",
      "metadata": {
        "id": "nzGfiUi07Ev2"
      },
      "source": [
        "### Assign the lists to a dictionary"
      ]
    },
    {
      "cell_type": "code",
      "metadata": {
        "id": "l9gd_0o1LDUx"
      },
      "source": [
        "post_dict = {'Date Posted': date_posted, 'Title':title, 'Author': author, 'Description': summary, 'Post link': post_link}"
      ],
      "execution_count": 14,
      "outputs": []
    },
    {
      "cell_type": "markdown",
      "metadata": {
        "id": "-SuOP9Mz7aw2"
      },
      "source": [
        "### Export it to CSV using Pandas function"
      ]
    },
    {
      "cell_type": "code",
      "metadata": {
        "id": "Oh6GUQ2MEaV5"
      },
      "source": [
        "signal_noise = pd.DataFrame(post_dict)\n",
        "signal_noise.to_csv('Blog_posts.csv',encoding='utf-8',index=False)\n"
      ],
      "execution_count": 15,
      "outputs": []
    },
    {
      "cell_type": "code",
      "metadata": {
        "colab": {
          "base_uri": "https://localhost:8080/",
          "height": 1000
        },
        "id": "mmT5G4mAyFpj",
        "outputId": "0b4c8256-13e1-428e-b970-edc7b35dc70e"
      },
      "source": [
        "signal_noise.head(50)"
      ],
      "execution_count": 16,
      "outputs": [
        {
          "output_type": "execute_result",
          "data": {
            "text/html": [
              "<div>\n",
              "<style scoped>\n",
              "    .dataframe tbody tr th:only-of-type {\n",
              "        vertical-align: middle;\n",
              "    }\n",
              "\n",
              "    .dataframe tbody tr th {\n",
              "        vertical-align: top;\n",
              "    }\n",
              "\n",
              "    .dataframe thead th {\n",
              "        text-align: right;\n",
              "    }\n",
              "</style>\n",
              "<table border=\"1\" class=\"dataframe\">\n",
              "  <thead>\n",
              "    <tr style=\"text-align: right;\">\n",
              "      <th></th>\n",
              "      <th>Date Posted</th>\n",
              "      <th>Title</th>\n",
              "      <th>Author</th>\n",
              "      <th>Description</th>\n",
              "      <th>Post link</th>\n",
              "    </tr>\n",
              "  </thead>\n",
              "  <tbody>\n",
              "    <tr>\n",
              "      <th>0</th>\n",
              "      <td>February 9, 2021</td>\n",
              "      <td>Testimony before the North Dakota Senate Indus...</td>\n",
              "      <td>DHH</td>\n",
              "      <td>Chairman Klein and members of the Senate Indus...</td>\n",
              "      <td>https://m.signalvnoise.com/testimony-before-th...</td>\n",
              "    </tr>\n",
              "    <tr>\n",
              "      <th>1</th>\n",
              "      <td>January 18, 2021</td>\n",
              "      <td>Reiterating our Use Restrictions Policy</td>\n",
              "      <td>Jason Fried</td>\n",
              "      <td>The attack on the US Capitol, and subsequent t...</td>\n",
              "      <td>https://m.signalvnoise.com/reiterating-our-use...</td>\n",
              "    </tr>\n",
              "    <tr>\n",
              "      <th>2</th>\n",
              "      <td>December 23, 2020</td>\n",
              "      <td>HTML over the wire</td>\n",
              "      <td>DHH</td>\n",
              "      <td>You can write fast, modern, responsive web app...</td>\n",
              "      <td>https://m.signalvnoise.com/html-over-the-wire/</td>\n",
              "    </tr>\n",
              "    <tr>\n",
              "      <th>3</th>\n",
              "      <td>December 22, 2020</td>\n",
              "      <td>Validation is a mirage</td>\n",
              "      <td>Jason Fried</td>\n",
              "      <td>Spend enough time talking with entrepreneurs, ...</td>\n",
              "      <td>https://m.signalvnoise.com/validation-is-a-mir...</td>\n",
              "    </tr>\n",
              "    <tr>\n",
              "      <th>4</th>\n",
              "      <td>December 15, 2020</td>\n",
              "      <td>The Making of a Dumpster Fire</td>\n",
              "      <td>Andy Didorosi</td>\n",
              "      <td>A few weeks ago we launched a new marketing pr...</td>\n",
              "      <td>https://m.signalvnoise.com/the-making-of-a-dum...</td>\n",
              "    </tr>\n",
              "    <tr>\n",
              "      <th>5</th>\n",
              "      <td>October 30, 2020</td>\n",
              "      <td>How to waste half a day by not reading RFC 1034</td>\n",
              "      <td>Blake Stoddard</td>\n",
              "      <td>HEY uses a branch deploy system that I’ve writ...</td>\n",
              "      <td>https://m.signalvnoise.com/how-to-waste-half-a...</td>\n",
              "    </tr>\n",
              "    <tr>\n",
              "      <th>6</th>\n",
              "      <td>October 30, 2020</td>\n",
              "      <td>Basecamp has offset our cumulative emissions t...</td>\n",
              "      <td>Jane Yang</td>\n",
              "      <td>Earlier this year, we announced that Basecamp ...</td>\n",
              "      <td>https://m.signalvnoise.com/basecamp-has-offset...</td>\n",
              "    </tr>\n",
              "    <tr>\n",
              "      <th>7</th>\n",
              "      <td>October 27, 2020</td>\n",
              "      <td>Introducing the Basecamp security bug bounty</td>\n",
              "      <td>George Claghorn</td>\n",
              "      <td>We’ve run a private security bug bounty progra...</td>\n",
              "      <td>https://m.signalvnoise.com/introducing-the-bas...</td>\n",
              "    </tr>\n",
              "    <tr>\n",
              "      <th>8</th>\n",
              "      <td>October 2, 2020</td>\n",
              "      <td>Don’t take their word for it</td>\n",
              "      <td>Jason Fried</td>\n",
              "      <td>A few weeks ago, we needed some hardware fast</td>\n",
              "      <td>https://m.signalvnoise.com/dont-take-their-wor...</td>\n",
              "    </tr>\n",
              "    <tr>\n",
              "      <th>9</th>\n",
              "      <td>October 2, 2020</td>\n",
              "      <td>Basecamp is hiring a Product Designer</td>\n",
              "      <td>Jonas Downey</td>\n",
              "      <td>Basecamp’s Core Product team is hiring a Senio...</td>\n",
              "      <td>https://m.signalvnoise.com/basecamp-is-hiring-...</td>\n",
              "    </tr>\n",
              "    <tr>\n",
              "      <th>10</th>\n",
              "      <td>September 22, 2020</td>\n",
              "      <td>Demand Side Sales 101, a new book on sales by ...</td>\n",
              "      <td>Jason Fried</td>\n",
              "      <td>Bob Moesta is a dear friend, mentor, and all a...</td>\n",
              "      <td>https://m.signalvnoise.com/demand-side-sales-1...</td>\n",
              "    </tr>\n",
              "    <tr>\n",
              "      <th>11</th>\n",
              "      <td>September 11, 2020</td>\n",
              "      <td>Options, Not Roadmaps</td>\n",
              "      <td>Ryan Singer</td>\n",
              "      <td>Since Shape Up came out, many people asked som...</td>\n",
              "      <td>https://m.signalvnoise.com/options-not-roadmaps/</td>\n",
              "    </tr>\n",
              "    <tr>\n",
              "      <th>12</th>\n",
              "      <td>September 4, 2020</td>\n",
              "      <td>Inside a CODE RED: Network Edition</td>\n",
              "      <td>Troy Toman</td>\n",
              "      <td>I wanted to follow up to Jeremy’s post about o...</td>\n",
              "      <td>https://m.signalvnoise.com/inside-a-code-red-n...</td>\n",
              "    </tr>\n",
              "    <tr>\n",
              "      <th>13</th>\n",
              "      <td>September 2, 2020</td>\n",
              "      <td>Three Basecamp outages. One week. What happened?</td>\n",
              "      <td>Jeremy Daer</td>\n",
              "      <td>Basecamp has suffered through three serious ou...</td>\n",
              "      <td>https://m.signalvnoise.com/three-basecamp-outa...</td>\n",
              "    </tr>\n",
              "    <tr>\n",
              "      <th>14</th>\n",
              "      <td>August 20, 2020</td>\n",
              "      <td>How Basecamp Became a 100% Remote Company</td>\n",
              "      <td>Navid Afshar</td>\n",
              "      <td>Moving is never fun</td>\n",
              "      <td>https://m.signalvnoise.com/how-basecamp-became...</td>\n",
              "    </tr>\n",
              "    <tr>\n",
              "      <th>15</th>\n",
              "      <td>August 5, 2020</td>\n",
              "      <td>We’re hiring Rails programmers</td>\n",
              "      <td>Jeffrey Hardy</td>\n",
              "      <td>We have two rare openings on our Core Product ...</td>\n",
              "      <td>https://m.signalvnoise.com/were-hiring-rails-p...</td>\n",
              "    </tr>\n",
              "    <tr>\n",
              "      <th>16</th>\n",
              "      <td>July 24, 2020</td>\n",
              "      <td>Remote work is a platform</td>\n",
              "      <td>Jason Fried</td>\n",
              "      <td>Back in the mid-90s, just as Netscape Navigato...</td>\n",
              "      <td>https://m.signalvnoise.com/remote-work-is-a-pl...</td>\n",
              "    </tr>\n",
              "    <tr>\n",
              "      <th>17</th>\n",
              "      <td>July 21, 2020</td>\n",
              "      <td>Take a video tour of HEY</td>\n",
              "      <td>Jason Fried</td>\n",
              "      <td>Heard about HEY, but haven’t had a chance to c...</td>\n",
              "      <td>https://m.signalvnoise.com/take-a-video-tour-o...</td>\n",
              "    </tr>\n",
              "    <tr>\n",
              "      <th>18</th>\n",
              "      <td>July 17, 2020</td>\n",
              "      <td>Spy pixels are evolving like malware, so HEY’s...</td>\n",
              "      <td>DHH</td>\n",
              "      <td>We knew that spy-pixel pushers might go down t...</td>\n",
              "      <td>https://m.signalvnoise.com/spy-pixels-are-evol...</td>\n",
              "    </tr>\n",
              "    <tr>\n",
              "      <th>19</th>\n",
              "      <td>July 17, 2020</td>\n",
              "      <td>On Apple’s monopoly power to destroy HEY</td>\n",
              "      <td>DHH</td>\n",
              "      <td>This statement was delivered to the democratic...</td>\n",
              "      <td>https://m.signalvnoise.com/on-apples-monopoly-...</td>\n",
              "    </tr>\n",
              "    <tr>\n",
              "      <th>20</th>\n",
              "      <td>July 17, 2020</td>\n",
              "      <td>Basecamp’s Ops Team is Hiring</td>\n",
              "      <td>Andrea Larowe</td>\n",
              "      <td>Basecamp is hiring three new System Administra...</td>\n",
              "      <td>https://m.signalvnoise.com/basecamps-ops-team-...</td>\n",
              "    </tr>\n",
              "    <tr>\n",
              "      <th>21</th>\n",
              "      <td>July 8, 2020</td>\n",
              "      <td>How we achieve “simple design” for Basecamp an...</td>\n",
              "      <td>Jonas Downey</td>\n",
              "      <td>Yesterday I got an email asking how we achieve...</td>\n",
              "      <td>https://m.signalvnoise.com/how-we-achieve-simp...</td>\n",
              "    </tr>\n",
              "    <tr>\n",
              "      <th>22</th>\n",
              "      <td>June 30, 2020</td>\n",
              "      <td>The evolution of HEY: from humble beginnings t...</td>\n",
              "      <td>Jonas Downey</td>\n",
              "      <td>Two weeks ago we released HEY into the world, ...</td>\n",
              "      <td>https://m.signalvnoise.com/the-evolution-of-hey/</td>\n",
              "    </tr>\n",
              "    <tr>\n",
              "      <th>23</th>\n",
              "      <td>June 30, 2020</td>\n",
              "      <td>Towards carbon negativity</td>\n",
              "      <td>Jane Yang</td>\n",
              "      <td>Humans have been pumping greenhouse gases into...</td>\n",
              "      <td>https://m.signalvnoise.com/towards-carbon-nega...</td>\n",
              "    </tr>\n",
              "    <tr>\n",
              "      <th>24</th>\n",
              "      <td>June 29, 2020</td>\n",
              "      <td>Running spot instances effectively with Amazon...</td>\n",
              "      <td>Blake Stoddard</td>\n",
              "      <td>Since we started working on HEY, one of the th...</td>\n",
              "      <td>https://m.signalvnoise.com/running-spot-instan...</td>\n",
              "    </tr>\n",
              "    <tr>\n",
              "      <th>25</th>\n",
              "      <td>June 19, 2020</td>\n",
              "      <td>Black Lives Matter</td>\n",
              "      <td>Jane Yang and kristinaards</td>\n",
              "      <td>Today, on Juneteenth, it is important to us to...</td>\n",
              "      <td>https://m.signalvnoise.com/black-lives-matter/</td>\n",
              "    </tr>\n",
              "    <tr>\n",
              "      <th>26</th>\n",
              "      <td>June 11, 2020</td>\n",
              "      <td>Celebrating 3 million accounts (fewer)</td>\n",
              "      <td>Jorge Manrubia</td>\n",
              "      <td>We recently deleted over three million account...</td>\n",
              "      <td>https://m.signalvnoise.com/celebrating-3-milli...</td>\n",
              "    </tr>\n",
              "    <tr>\n",
              "      <th>27</th>\n",
              "      <td>June 1, 2020</td>\n",
              "      <td>On current events</td>\n",
              "      <td>Jason Fried</td>\n",
              "      <td>It’s easy to say what a year, what a week</td>\n",
              "      <td>https://m.signalvnoise.com/on-current-events/</td>\n",
              "    </tr>\n",
              "    <tr>\n",
              "      <th>28</th>\n",
              "      <td>May 7, 2020</td>\n",
              "      <td>Employee-surveillance software is not welcome ...</td>\n",
              "      <td>DHH</td>\n",
              "      <td>We’ve been teaching people how to do remote wo...</td>\n",
              "      <td>https://m.signalvnoise.com/employee-surveillan...</td>\n",
              "    </tr>\n",
              "    <tr>\n",
              "      <th>29</th>\n",
              "      <td>April 28, 2020</td>\n",
              "      <td>Hiring programmers with a take-home test</td>\n",
              "      <td>DHH</td>\n",
              "      <td>There’s no perfect process for hiring great pr...</td>\n",
              "      <td>https://m.signalvnoise.com/hiring-programmers-...</td>\n",
              "    </tr>\n",
              "    <tr>\n",
              "      <th>30</th>\n",
              "      <td>April 20, 2020</td>\n",
              "      <td>Seamless branch deploys with Kubernetes</td>\n",
              "      <td>Blake Stoddard</td>\n",
              "      <td>Basecamp’s newest product HEY has lived on Kub...</td>\n",
              "      <td>https://m.signalvnoise.com/seamless-branch-dep...</td>\n",
              "    </tr>\n",
              "    <tr>\n",
              "      <th>31</th>\n",
              "      <td>April 13, 2020</td>\n",
              "      <td>We’ve refreshed our policies</td>\n",
              "      <td>Jane Yang</td>\n",
              "      <td>Spring is emerging in the US and as part of ou...</td>\n",
              "      <td>https://m.signalvnoise.com/weve-refreshed-our-...</td>\n",
              "    </tr>\n",
              "    <tr>\n",
              "      <th>32</th>\n",
              "      <td>April 8, 2020</td>\n",
              "      <td>The Majestic Monolith can become The Citadel</td>\n",
              "      <td>DHH</td>\n",
              "      <td>The vast majority of web applications should s...</td>\n",
              "      <td>https://m.signalvnoise.com/the-majestic-monoli...</td>\n",
              "    </tr>\n",
              "    <tr>\n",
              "      <th>33</th>\n",
              "      <td>March 31, 2020</td>\n",
              "      <td>Why HEY had to wait</td>\n",
              "      <td>DHH</td>\n",
              "      <td>We had originally planned to release HEY, our ...</td>\n",
              "      <td>https://m.signalvnoise.com/why-hey-had-to-wait/</td>\n",
              "    </tr>\n",
              "    <tr>\n",
              "      <th>34</th>\n",
              "      <td>March 27, 2020</td>\n",
              "      <td>Working remotely builds organizational resiliency</td>\n",
              "      <td>Jason Fried</td>\n",
              "      <td>For many, moving from everyone’s-working-from-...</td>\n",
              "      <td>https://m.signalvnoise.com/working-remotely-bu...</td>\n",
              "    </tr>\n",
              "    <tr>\n",
              "      <th>35</th>\n",
              "      <td>March 25, 2020</td>\n",
              "      <td>Live Q&amp;A on remote working, working from home,...</td>\n",
              "      <td>Jason Fried</td>\n",
              "      <td>In this livesteam, David and I answer audience...</td>\n",
              "      <td>https://m.signalvnoise.com/live-qa-on-remote-w...</td>\n",
              "    </tr>\n",
              "    <tr>\n",
              "      <th>36</th>\n",
              "      <td>March 25, 2020</td>\n",
              "      <td>A live tour of how Basecamp uses Basecamp to r...</td>\n",
              "      <td>Jason Fried</td>\n",
              "      <td>David and I spent nearly 2-hours giving a live...</td>\n",
              "      <td>https://m.signalvnoise.com/a-live-tour-of-how-...</td>\n",
              "    </tr>\n",
              "    <tr>\n",
              "      <th>37</th>\n",
              "      <td>March 20, 2020</td>\n",
              "      <td>Remote Working: The home office desks of Basecamp</td>\n",
              "      <td>Jason Fried</td>\n",
              "      <td>People are always curious about work-from-home...</td>\n",
              "      <td>https://m.signalvnoise.com/remote-working-the-...</td>\n",
              "    </tr>\n",
              "    <tr>\n",
              "      <th>38</th>\n",
              "      <td>March 6, 2020</td>\n",
              "      <td>How we acquired HEY.com</td>\n",
              "      <td>Jason Fried</td>\n",
              "      <td>Back on June 9, 2018, I cold emailed help@hey</td>\n",
              "      <td>https://m.signalvnoise.com/how-we-acquired-hey...</td>\n",
              "    </tr>\n",
              "    <tr>\n",
              "      <th>39</th>\n",
              "      <td>March 2, 2020</td>\n",
              "      <td>Keep digging</td>\n",
              "      <td>Ryan Singer</td>\n",
              "      <td>I’m reviewing transcripts from interviews we d...</td>\n",
              "      <td>https://m.signalvnoise.com/keep-digging/</td>\n",
              "    </tr>\n",
              "    <tr>\n",
              "      <th>40</th>\n",
              "      <td>February 27, 2020</td>\n",
              "      <td>The books I read in 2019</td>\n",
              "      <td>DHH</td>\n",
              "      <td>Here are all my extracted answers from our mon...</td>\n",
              "      <td>https://m.signalvnoise.com/the-books-i-read-in...</td>\n",
              "    </tr>\n",
              "    <tr>\n",
              "      <th>41</th>\n",
              "      <td>February 10, 2020</td>\n",
              "      <td>Mailing list software should stop spying on su...</td>\n",
              "      <td>DHH</td>\n",
              "      <td>The internet is finally coming out of its long...</td>\n",
              "      <td>https://m.signalvnoise.com/mailing-list-softwa...</td>\n",
              "    </tr>\n",
              "    <tr>\n",
              "      <th>42</th>\n",
              "      <td>January 31, 2020</td>\n",
              "      <td>Integrated systems for integrated programmers</td>\n",
              "      <td>DHH</td>\n",
              "      <td>One of the great tragedies of modern web devel...</td>\n",
              "      <td>https://m.signalvnoise.com/integrated-systems-...</td>\n",
              "    </tr>\n",
              "    <tr>\n",
              "      <th>43</th>\n",
              "      <td>January 17, 2020</td>\n",
              "      <td>Testimony before the House Antitrust Subcommittee</td>\n",
              "      <td>DHH</td>\n",
              "      <td>My name is David Heinemeier Hansson, and I’m t...</td>\n",
              "      <td>https://m.signalvnoise.com/testimony-before-th...</td>\n",
              "    </tr>\n",
              "    <tr>\n",
              "      <th>44</th>\n",
              "      <td>January 17, 2020</td>\n",
              "      <td>Basecamp is hiring a Programmer</td>\n",
              "      <td>Javan Makhmali</td>\n",
              "      <td>We’re hiring a programmer to join our Research...</td>\n",
              "      <td>https://m.signalvnoise.com/basecamp-is-hiring-...</td>\n",
              "    </tr>\n",
              "    <tr>\n",
              "      <th>45</th>\n",
              "      <td>January 14, 2020</td>\n",
              "      <td>My polyglot Advent of Code</td>\n",
              "      <td>Rosa Gutiérrez</td>\n",
              "      <td>At Basecamp we have an internal project called...</td>\n",
              "      <td>https://m.signalvnoise.com/my-polyglot-advent-...</td>\n",
              "    </tr>\n",
              "    <tr>\n",
              "      <th>46</th>\n",
              "      <td>January 12, 2020</td>\n",
              "      <td>I went to see a movie, and instead I saw the f...</td>\n",
              "      <td>Jason Fried</td>\n",
              "      <td>A few days ago my wife and I went to see Uncut...</td>\n",
              "      <td>https://m.signalvnoise.com/i-went-to-see-a-mov...</td>\n",
              "    </tr>\n",
              "    <tr>\n",
              "      <th>47</th>\n",
              "      <td>January 10, 2020</td>\n",
              "      <td>AWS S3: You’re out of order.</td>\n",
              "      <td>John Williams</td>\n",
              "      <td>Back in November, we noticed something odd hap...</td>\n",
              "      <td>https://m.signalvnoise.com/aws-s3-youre-out-of...</td>\n",
              "    </tr>\n",
              "    <tr>\n",
              "      <th>48</th>\n",
              "      <td>January 6, 2020</td>\n",
              "      <td>The last tracker was just removed from Basecam...</td>\n",
              "      <td>DHH</td>\n",
              "      <td>Can you believe we used to willingly tell Goog...</td>\n",
              "      <td>https://m.signalvnoise.com/the-last-tracker-wa...</td>\n",
              "    </tr>\n",
              "    <tr>\n",
              "      <th>49</th>\n",
              "      <td>January 3, 2020</td>\n",
              "      <td>The Basecamp Guide to Internal Communication</td>\n",
              "      <td>Jason Fried</td>\n",
              "      <td>We just published “The Basecamp Guide to Inter...</td>\n",
              "      <td>https://m.signalvnoise.com/the-basecamp-guide-...</td>\n",
              "    </tr>\n",
              "  </tbody>\n",
              "</table>\n",
              "</div>"
            ],
            "text/plain": [
              "           Date Posted  ...                                          Post link\n",
              "0     February 9, 2021  ...  https://m.signalvnoise.com/testimony-before-th...\n",
              "1     January 18, 2021  ...  https://m.signalvnoise.com/reiterating-our-use...\n",
              "2    December 23, 2020  ...     https://m.signalvnoise.com/html-over-the-wire/\n",
              "3    December 22, 2020  ...  https://m.signalvnoise.com/validation-is-a-mir...\n",
              "4    December 15, 2020  ...  https://m.signalvnoise.com/the-making-of-a-dum...\n",
              "5     October 30, 2020  ...  https://m.signalvnoise.com/how-to-waste-half-a...\n",
              "6     October 30, 2020  ...  https://m.signalvnoise.com/basecamp-has-offset...\n",
              "7     October 27, 2020  ...  https://m.signalvnoise.com/introducing-the-bas...\n",
              "8      October 2, 2020  ...  https://m.signalvnoise.com/dont-take-their-wor...\n",
              "9      October 2, 2020  ...  https://m.signalvnoise.com/basecamp-is-hiring-...\n",
              "10  September 22, 2020  ...  https://m.signalvnoise.com/demand-side-sales-1...\n",
              "11  September 11, 2020  ...   https://m.signalvnoise.com/options-not-roadmaps/\n",
              "12   September 4, 2020  ...  https://m.signalvnoise.com/inside-a-code-red-n...\n",
              "13   September 2, 2020  ...  https://m.signalvnoise.com/three-basecamp-outa...\n",
              "14     August 20, 2020  ...  https://m.signalvnoise.com/how-basecamp-became...\n",
              "15      August 5, 2020  ...  https://m.signalvnoise.com/were-hiring-rails-p...\n",
              "16       July 24, 2020  ...  https://m.signalvnoise.com/remote-work-is-a-pl...\n",
              "17       July 21, 2020  ...  https://m.signalvnoise.com/take-a-video-tour-o...\n",
              "18       July 17, 2020  ...  https://m.signalvnoise.com/spy-pixels-are-evol...\n",
              "19       July 17, 2020  ...  https://m.signalvnoise.com/on-apples-monopoly-...\n",
              "20       July 17, 2020  ...  https://m.signalvnoise.com/basecamps-ops-team-...\n",
              "21        July 8, 2020  ...  https://m.signalvnoise.com/how-we-achieve-simp...\n",
              "22       June 30, 2020  ...   https://m.signalvnoise.com/the-evolution-of-hey/\n",
              "23       June 30, 2020  ...  https://m.signalvnoise.com/towards-carbon-nega...\n",
              "24       June 29, 2020  ...  https://m.signalvnoise.com/running-spot-instan...\n",
              "25       June 19, 2020  ...     https://m.signalvnoise.com/black-lives-matter/\n",
              "26       June 11, 2020  ...  https://m.signalvnoise.com/celebrating-3-milli...\n",
              "27        June 1, 2020  ...      https://m.signalvnoise.com/on-current-events/\n",
              "28         May 7, 2020  ...  https://m.signalvnoise.com/employee-surveillan...\n",
              "29      April 28, 2020  ...  https://m.signalvnoise.com/hiring-programmers-...\n",
              "30      April 20, 2020  ...  https://m.signalvnoise.com/seamless-branch-dep...\n",
              "31      April 13, 2020  ...  https://m.signalvnoise.com/weve-refreshed-our-...\n",
              "32       April 8, 2020  ...  https://m.signalvnoise.com/the-majestic-monoli...\n",
              "33      March 31, 2020  ...    https://m.signalvnoise.com/why-hey-had-to-wait/\n",
              "34      March 27, 2020  ...  https://m.signalvnoise.com/working-remotely-bu...\n",
              "35      March 25, 2020  ...  https://m.signalvnoise.com/live-qa-on-remote-w...\n",
              "36      March 25, 2020  ...  https://m.signalvnoise.com/a-live-tour-of-how-...\n",
              "37      March 20, 2020  ...  https://m.signalvnoise.com/remote-working-the-...\n",
              "38       March 6, 2020  ...  https://m.signalvnoise.com/how-we-acquired-hey...\n",
              "39       March 2, 2020  ...           https://m.signalvnoise.com/keep-digging/\n",
              "40   February 27, 2020  ...  https://m.signalvnoise.com/the-books-i-read-in...\n",
              "41   February 10, 2020  ...  https://m.signalvnoise.com/mailing-list-softwa...\n",
              "42    January 31, 2020  ...  https://m.signalvnoise.com/integrated-systems-...\n",
              "43    January 17, 2020  ...  https://m.signalvnoise.com/testimony-before-th...\n",
              "44    January 17, 2020  ...  https://m.signalvnoise.com/basecamp-is-hiring-...\n",
              "45    January 14, 2020  ...  https://m.signalvnoise.com/my-polyglot-advent-...\n",
              "46    January 12, 2020  ...  https://m.signalvnoise.com/i-went-to-see-a-mov...\n",
              "47    January 10, 2020  ...  https://m.signalvnoise.com/aws-s3-youre-out-of...\n",
              "48     January 6, 2020  ...  https://m.signalvnoise.com/the-last-tracker-wa...\n",
              "49     January 3, 2020  ...  https://m.signalvnoise.com/the-basecamp-guide-...\n",
              "\n",
              "[50 rows x 5 columns]"
            ]
          },
          "metadata": {},
          "execution_count": 16
        }
      ]
    },
    {
      "cell_type": "code",
      "metadata": {
        "id": "3O0gKkal7m6O"
      },
      "source": [
        ""
      ],
      "execution_count": 16,
      "outputs": []
    }
  ]
}