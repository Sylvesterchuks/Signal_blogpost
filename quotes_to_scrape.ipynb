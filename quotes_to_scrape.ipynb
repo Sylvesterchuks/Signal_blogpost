{
  "nbformat": 4,
  "nbformat_minor": 0,
  "metadata": {
    "kernelspec": {
      "display_name": "Python 3",
      "language": "python",
      "name": "python3"
    },
    "language_info": {
      "codemirror_mode": {
        "name": "ipython",
        "version": 3
      },
      "file_extension": ".py",
      "mimetype": "text/x-python",
      "name": "python",
      "nbconvert_exporter": "python",
      "pygments_lexer": "ipython3",
      "version": "3.7.6"
    },
    "colab": {
      "name": "quotes-to-scrape.ipynb",
      "provenance": [],
      "collapsed_sections": [],
      "include_colab_link": true
    }
  },
  "cells": [
    {
      "cell_type": "markdown",
      "metadata": {
        "id": "view-in-github",
        "colab_type": "text"
      },
      "source": [
        "<a href=\"https://colab.research.google.com/github/Sylvesterchuks/Signal_blogpost/blob/main/quotes_to_scrape.ipynb\" target=\"_parent\"><img src=\"https://colab.research.google.com/assets/colab-badge.svg\" alt=\"Open In Colab\"/></a>"
      ]
    },
    {
      "cell_type": "code",
      "metadata": {
        "colab": {
          "base_uri": "https://localhost:8080/"
        },
        "id": "FvPlxbftod1F",
        "outputId": "7e45f553-6c2d-4259-e8ed-3c8075dc45fe"
      },
      "source": [
        "# Jovian Commit Essentials\n",
        "# Please retain and execute this cell without modifying the contents for `jovian.commit` to work\n",
        "!pip install jovian --upgrade -q\n",
        "import jovian\n",
        "jovian.set_project('quotes-to-scrape')\n",
        "jovian.set_colab_id('16Eb1Xhmq-8qQEpR9FDhWXJ_kjN_Du-5g')"
      ],
      "execution_count": 1,
      "outputs": [
        {
          "output_type": "stream",
          "name": "stdout",
          "text": [
            "\u001b[?25l\r\u001b[K     |████▊                           | 10 kB 22.0 MB/s eta 0:00:01\r\u001b[K     |█████████▌                      | 20 kB 9.3 MB/s eta 0:00:01\r\u001b[K     |██████████████▎                 | 30 kB 7.9 MB/s eta 0:00:01\r\u001b[K     |███████████████████             | 40 kB 7.1 MB/s eta 0:00:01\r\u001b[K     |███████████████████████▉        | 51 kB 2.7 MB/s eta 0:00:01\r\u001b[K     |████████████████████████████▋   | 61 kB 3.0 MB/s eta 0:00:01\r\u001b[K     |████████████████████████████████| 68 kB 1.9 MB/s \n",
            "\u001b[?25h  Building wheel for uuid (setup.py) ... \u001b[?25l\u001b[?25hdone\n"
          ]
        }
      ]
    },
    {
      "cell_type": "markdown",
      "metadata": {
        "id": "u3WkK1udod1L"
      },
      "source": [
        "# quotes-to-scrape\n",
        "\n",
        "Use the \"Run\" button to execute the code."
      ]
    },
    {
      "cell_type": "markdown",
      "metadata": {
        "id": "0BeaW-y0WCqU"
      },
      "source": [
        "## Jovian is an end-to-end cloud platform for data science and machine learning, designed to provide the best hands-on learning experience, we you can also commit your code.\n"
      ]
    },
    {
      "cell_type": "code",
      "metadata": {
        "id": "TojbWm1tod1N"
      },
      "source": [
        "# !pip install jovian --upgrade --quiet"
      ],
      "execution_count": null,
      "outputs": []
    },
    {
      "cell_type": "code",
      "metadata": {
        "id": "3a8cUWCQod1O"
      },
      "source": [
        "# import jovian"
      ],
      "execution_count": null,
      "outputs": []
    },
    {
      "cell_type": "code",
      "metadata": {
        "colab": {
          "base_uri": "https://localhost:8080/",
          "height": 119
        },
        "id": "VhyZUdrWod1P",
        "outputId": "721a34d7-c036-45e7-b47b-caec7efedf43"
      },
      "source": [
        "# Execute this to save new versions of the notebook\n",
        "jovian.commit(project=\"quotes-to-scrape\")"
      ],
      "execution_count": 2,
      "outputs": [
        {
          "output_type": "stream",
          "name": "stdout",
          "text": [
            "[jovian] Detected Colab notebook...\u001b[0m\n",
            "[jovian] Please enter your API key ( from https://jovian.ai/ ):\u001b[0m\n",
            "API KEY: ··········\n",
            "[jovian] Uploading colab notebook to Jovian...\u001b[0m\n",
            "Committed successfully! https://jovian.ai/sylvesterchuks/quotes-to-scrape\n"
          ]
        },
        {
          "output_type": "execute_result",
          "data": {
            "application/vnd.google.colaboratory.intrinsic+json": {
              "type": "string"
            },
            "text/plain": [
              "'https://jovian.ai/sylvesterchuks/quotes-to-scrape'"
            ]
          },
          "metadata": {},
          "execution_count": 2
        }
      ]
    },
    {
      "cell_type": "code",
      "metadata": {
        "colab": {
          "base_uri": "https://localhost:8080/"
        },
        "id": "xAZNfeOqod1P",
        "outputId": "c7dfe196-83e3-4208-f04b-fc7b2c5ebde0"
      },
      "source": [
        "!pip install requests # Install requests library"
      ],
      "execution_count": 3,
      "outputs": [
        {
          "output_type": "stream",
          "name": "stdout",
          "text": [
            "Requirement already satisfied: requests in /usr/local/lib/python3.7/dist-packages (2.23.0)\n",
            "Requirement already satisfied: urllib3!=1.25.0,!=1.25.1,<1.26,>=1.21.1 in /usr/local/lib/python3.7/dist-packages (from requests) (1.24.3)\n",
            "Requirement already satisfied: certifi>=2017.4.17 in /usr/local/lib/python3.7/dist-packages (from requests) (2021.5.30)\n",
            "Requirement already satisfied: chardet<4,>=3.0.2 in /usr/local/lib/python3.7/dist-packages (from requests) (3.0.4)\n",
            "Requirement already satisfied: idna<3,>=2.5 in /usr/local/lib/python3.7/dist-packages (from requests) (2.10)\n"
          ]
        }
      ]
    },
    {
      "cell_type": "markdown",
      "metadata": {
        "id": "ZADoeFSwgbFh"
      },
      "source": [
        "## Import the libraries needed for \n",
        "  * Requests Library for retrieving website\n",
        "  * BeautifulSoup Library for Rendering and reading through html\n",
        "  * Pandas for reading to csv"
      ]
    },
    {
      "cell_type": "code",
      "metadata": {
        "id": "tB1siculgR9B"
      },
      "source": [
        "import requests\n",
        "from bs4 import BeautifulSoup\n",
        "import pandas as pd"
      ],
      "execution_count": 4,
      "outputs": []
    },
    {
      "cell_type": "code",
      "metadata": {
        "id": "gczy3gS2o_fM"
      },
      "source": [
        "url = 'https://quotes.toscrape.com/page/1/'"
      ],
      "execution_count": 5,
      "outputs": []
    },
    {
      "cell_type": "markdown",
      "metadata": {
        "id": "x7IqXX9ei005"
      },
      "source": [
        "### Retrieve the webpage and render using BeautifulSoup"
      ]
    },
    {
      "cell_type": "code",
      "metadata": {
        "id": "Kt-CK6UDpZJr"
      },
      "source": [
        "response = requests.get(url)\n",
        "response.raise_for_status() # checks if the requests was successful or not successful"
      ],
      "execution_count": 7,
      "outputs": []
    },
    {
      "cell_type": "code",
      "metadata": {
        "id": "UA3fHLdqpibz"
      },
      "source": [
        "soup = BeautifulSoup(response.content,'lxml')"
      ],
      "execution_count": 8,
      "outputs": []
    },
    {
      "cell_type": "code",
      "metadata": {
        "colab": {
          "base_uri": "https://localhost:8080/"
        },
        "id": "kzzrpqW7p3k5",
        "outputId": "1b44d9f4-118b-4f30-a93e-f9bca385bdc2"
      },
      "source": [
        "posts = soup.find_all('div',class_='quote')  # Returns a list of all div with a class quote\n",
        "len(posts) # returns the length of the list"
      ],
      "execution_count": 9,
      "outputs": [
        {
          "output_type": "execute_result",
          "data": {
            "text/plain": [
              "10"
            ]
          },
          "metadata": {},
          "execution_count": 9
        }
      ]
    },
    {
      "cell_type": "code",
      "metadata": {
        "id": "28k2uZGUqgYU"
      },
      "source": [
        "quote = posts[0] # slice out the first item from the list"
      ],
      "execution_count": 10,
      "outputs": []
    },
    {
      "cell_type": "markdown",
      "metadata": {
        "id": "VHOTRi_Lkn_6"
      },
      "source": [
        "### Scrape information from the first item in the list \n",
        "  * Quote\n",
        "  * Author Name\n",
        "  * Qoute Tag\n",
        "  * Author Bio-link\n",
        "  * Date Of Birth\n",
        "  * Place of Birth"
      ]
    },
    {
      "cell_type": "markdown",
      "metadata": {
        "id": "jWoLTXIImUFS"
      },
      "source": [
        "#### Scrape Quote Text\n",
        "\n",
        "\n"
      ]
    },
    {
      "cell_type": "code",
      "metadata": {
        "colab": {
          "base_uri": "https://localhost:8080/",
          "height": 35
        },
        "id": "LCWJhwlXq7nY",
        "outputId": "6f44e9fc-c9a2-4d4e-8819-d7477df50a55"
      },
      "source": [
        "quote.find('span',class_='text').text"
      ],
      "execution_count": 12,
      "outputs": [
        {
          "output_type": "execute_result",
          "data": {
            "application/vnd.google.colaboratory.intrinsic+json": {
              "type": "string"
            },
            "text/plain": [
              "'“The world as we have created it is a process of our thinking. It cannot be changed without changing our thinking.”'"
            ]
          },
          "metadata": {},
          "execution_count": 12
        }
      ]
    },
    {
      "cell_type": "markdown",
      "metadata": {
        "id": "IZh2xd5fmkCZ"
      },
      "source": [
        "#### Scrape Author Name"
      ]
    },
    {
      "cell_type": "code",
      "metadata": {
        "colab": {
          "base_uri": "https://localhost:8080/",
          "height": 35
        },
        "id": "v4kSKtGQrLSr",
        "outputId": "7cf49db6-2228-494c-946e-615eb14fe2f3"
      },
      "source": [
        "quote.find('small',class_='author').text"
      ],
      "execution_count": 13,
      "outputs": [
        {
          "output_type": "execute_result",
          "data": {
            "application/vnd.google.colaboratory.intrinsic+json": {
              "type": "string"
            },
            "text/plain": [
              "'Albert Einstein'"
            ]
          },
          "metadata": {},
          "execution_count": 13
        }
      ]
    },
    {
      "cell_type": "markdown",
      "metadata": {
        "id": "PeP4XEpGmw5p"
      },
      "source": [
        "#### Scrape Quote Tag"
      ]
    },
    {
      "cell_type": "code",
      "metadata": {
        "colab": {
          "base_uri": "https://localhost:8080/"
        },
        "id": "axkD-Jxpra5R",
        "outputId": "77808317-ff3a-4361-a496-3856037ec2a8"
      },
      "source": [
        "[tag.text for tag in quote.find_all('a',class_='tag')]"
      ],
      "execution_count": 14,
      "outputs": [
        {
          "output_type": "execute_result",
          "data": {
            "text/plain": [
              "['change', 'deep-thoughts', 'thinking', 'world']"
            ]
          },
          "metadata": {},
          "execution_count": 14
        }
      ]
    },
    {
      "cell_type": "code",
      "metadata": {
        "id": "zCN32impsJup"
      },
      "source": [
        "link = 'https://quotes.toscrape.com'+quote.find('a')['href']"
      ],
      "execution_count": 15,
      "outputs": []
    },
    {
      "cell_type": "markdown",
      "metadata": {
        "id": "wwCZ8HYinBby"
      },
      "source": [
        "#### Retrieve the link page to Bio and render using BeautifulSoup"
      ]
    },
    {
      "cell_type": "code",
      "metadata": {
        "id": "15CbYAu5sYLK"
      },
      "source": [
        "response2 = requests.get(link)\n",
        "response2.raise_for_status() # checks if the requests was successful or not successful"
      ],
      "execution_count": 16,
      "outputs": []
    },
    {
      "cell_type": "code",
      "metadata": {
        "id": "_S_zvU6jtPWO"
      },
      "source": [
        "soup2 = BeautifulSoup(response2.content,'lxml')"
      ],
      "execution_count": 17,
      "outputs": []
    },
    {
      "cell_type": "code",
      "metadata": {
        "id": "3BXUYW54tlok"
      },
      "source": [
        "profile = soup2.find('div',class_='author-details') # Returns a div with a class author-details"
      ],
      "execution_count": null,
      "outputs": []
    },
    {
      "cell_type": "markdown",
      "metadata": {
        "id": "mMmxxgeNntrZ"
      },
      "source": [
        "##### Scrape Date Of Birth & Place of Birth from the profile"
      ]
    },
    {
      "cell_type": "code",
      "metadata": {
        "colab": {
          "base_uri": "https://localhost:8080/",
          "height": 35
        },
        "id": "QxUSvicUt7fN",
        "outputId": "c15d7533-b53f-43b3-a520-50b94449e569"
      },
      "source": [
        "profile.find('span',class_='author-born-date').text"
      ],
      "execution_count": null,
      "outputs": [
        {
          "output_type": "execute_result",
          "data": {
            "application/vnd.google.colaboratory.intrinsic+json": {
              "type": "string"
            },
            "text/plain": [
              "'March 14, 1879'"
            ]
          },
          "metadata": {},
          "execution_count": 28
        }
      ]
    },
    {
      "cell_type": "code",
      "metadata": {
        "colab": {
          "base_uri": "https://localhost:8080/",
          "height": 35
        },
        "id": "LZTx2MoZuUmY",
        "outputId": "b4bb937c-398b-4f54-8389-2b313461fc0a"
      },
      "source": [
        "profile.find('span',class_='author-born-location').text.replace('in ','').strip()"
      ],
      "execution_count": null,
      "outputs": [
        {
          "output_type": "execute_result",
          "data": {
            "application/vnd.google.colaboratory.intrinsic+json": {
              "type": "string"
            },
            "text/plain": [
              "'Ulm, Germany'"
            ]
          },
          "metadata": {},
          "execution_count": 30
        }
      ]
    },
    {
      "cell_type": "markdown",
      "metadata": {
        "id": "qW3KOu6Dn697"
      },
      "source": [
        "### Write a function for each of the scraped data above"
      ]
    },
    {
      "cell_type": "code",
      "metadata": {
        "id": "vogR1i54ujyb"
      },
      "source": [
        "def the_quote(quote):\n",
        "  return quote.find('span', class_='text').text"
      ],
      "execution_count": 18,
      "outputs": []
    },
    {
      "cell_type": "code",
      "metadata": {
        "id": "tQeTJFo6v3Ac"
      },
      "source": [
        "def author_name(quote):\n",
        "  return quote.find('small',class_='author').text"
      ],
      "execution_count": 19,
      "outputs": []
    },
    {
      "cell_type": "code",
      "metadata": {
        "id": "sxtVSdE5wEDO"
      },
      "source": [
        "def quote_tags(quote):\n",
        "  return [tag.text for tag in quote.find_all('a',class_='tag')]"
      ],
      "execution_count": 20,
      "outputs": []
    },
    {
      "cell_type": "code",
      "metadata": {
        "id": "5CC8u9I3weGj"
      },
      "source": [
        "def author_bio_link(quote): \n",
        "  link = 'https://quotes.toscrape.com'+quote.find('a')['href']\n",
        "  return link"
      ],
      "execution_count": 21,
      "outputs": []
    },
    {
      "cell_type": "code",
      "metadata": {
        "id": "xQnBaUbTwsdx"
      },
      "source": [
        "def get_author_bio(link):\n",
        "  response2 = requests.get(link)\n",
        "  response2.raise_for_status()\n",
        "\n",
        "  soup2 = BeautifulSoup(response2.content,'lxml')\n",
        "  profile = soup2.find('div',class_='author-details')\n",
        "  return profile"
      ],
      "execution_count": 22,
      "outputs": []
    },
    {
      "cell_type": "code",
      "metadata": {
        "id": "bSHS_lSlw9ZA"
      },
      "source": [
        "def profile_details(profile):\n",
        "  return profile.find('span',class_='author-born-date').text"
      ],
      "execution_count": 23,
      "outputs": []
    },
    {
      "cell_type": "code",
      "metadata": {
        "id": "OGoJo0QWxMKP"
      },
      "source": [
        "def profile_location(profile):\n",
        "  return profile.find('span',class_='author-born-location').text.replace('in ','').strip()"
      ],
      "execution_count": 24,
      "outputs": []
    },
    {
      "cell_type": "markdown",
      "metadata": {
        "id": "XPInmIwcohjB"
      },
      "source": [
        "### Write a High order function to return a dictionary with the Quote text, Authot Name, link, Date of Birth, Birth Place "
      ]
    },
    {
      "cell_type": "code",
      "metadata": {
        "id": "jEsUhYP1xcr6"
      },
      "source": [
        "def quote_scraper(url):\n",
        "  response = requests.get(url)\n",
        "  response.raise_for_status()\n",
        "\n",
        "  soup = BeautifulSoup(response.content,'lxml')\n",
        "\n",
        "  posts = soup.find_all('div',class_='quote')\n",
        "  quote_text = []\n",
        "  authorname = []\n",
        "  tag = []\n",
        "  bio_link = []\n",
        "  date_of_birth = []\n",
        "  birth_place = []\n",
        "\n",
        "  for quote in posts:\n",
        "    quote_text.append(the_quote(quote))\n",
        "    authorname.append(author_name(quote))\n",
        "    tag.append(quote_tags(quote))\n",
        "    link = author_bio_link(quote)\n",
        "    bio_link.append(link)\n",
        "    profile = get_author_bio(link)\n",
        "\n",
        "    date_of_birth.append(profile_details(profile))\n",
        "    birth_place.append(profile_location(profile))\n",
        "\n",
        "  return {'Quotes':quote_text, 'Author_Name':authorname, 'Quote_Tag':tag, 'Links':bio_link, 'Date Of Birth':date_of_birth, 'BirthPlace':birth_place}\n",
        "    # print(f'{quote_text} {authorname} {tag} {link} {date_of_birth} {birth_place}')"
      ],
      "execution_count": 25,
      "outputs": []
    },
    {
      "cell_type": "code",
      "metadata": {
        "colab": {
          "base_uri": "https://localhost:8080/",
          "height": 86
        },
        "id": "y3xKtzdfqi7A",
        "outputId": "d4feceee-b8c4-41a4-e9a7-3076d9e0b641"
      },
      "source": [
        "jovian.commit() # Save to jovian"
      ],
      "execution_count": 26,
      "outputs": [
        {
          "output_type": "stream",
          "name": "stdout",
          "text": [
            "[jovian] Detected Colab notebook...\u001b[0m\n",
            "[jovian] Uploading colab notebook to Jovian...\u001b[0m\n",
            "Committed successfully! https://jovian.ai/sylvesterchuks/quotes-to-scrape\n"
          ]
        },
        {
          "output_type": "execute_result",
          "data": {
            "application/vnd.google.colaboratory.intrinsic+json": {
              "type": "string"
            },
            "text/plain": [
              "'https://jovian.ai/sylvesterchuks/quotes-to-scrape'"
            ]
          },
          "metadata": {},
          "execution_count": 26
        }
      ]
    },
    {
      "cell_type": "code",
      "metadata": {
        "colab": {
          "base_uri": "https://localhost:8080/"
        },
        "id": "jNKosz2S2SyY",
        "outputId": "3c941968-76ee-4f1c-c842-a2d4614cbf68"
      },
      "source": [
        "quote_scraper(url)"
      ],
      "execution_count": 27,
      "outputs": [
        {
          "output_type": "execute_result",
          "data": {
            "text/plain": [
              "{'Author_Name': ['Albert Einstein',\n",
              "  'J.K. Rowling',\n",
              "  'Albert Einstein',\n",
              "  'Jane Austen',\n",
              "  'Marilyn Monroe',\n",
              "  'Albert Einstein',\n",
              "  'André Gide',\n",
              "  'Thomas A. Edison',\n",
              "  'Eleanor Roosevelt',\n",
              "  'Steve Martin'],\n",
              " 'BirthPlace': ['Ulm, Germany',\n",
              "  'Yate, South Gloucestershire, England, The United Kingdom',\n",
              "  'Ulm, Germany',\n",
              "  'Steventon Rectory, Hampshire, The United Kingdom',\n",
              "  'The United States',\n",
              "  'Ulm, Germany',\n",
              "  'Paris, France',\n",
              "  'Milan, Ohio, The United States',\n",
              "  'The United States',\n",
              "  'Waco, Texas, The United States'],\n",
              " 'Date Of Birth': ['March 14, 1879',\n",
              "  'July 31, 1965',\n",
              "  'March 14, 1879',\n",
              "  'December 16, 1775',\n",
              "  'June 01, 1926',\n",
              "  'March 14, 1879',\n",
              "  'November 22, 1869',\n",
              "  'February 11, 1847',\n",
              "  'October 11, 1884',\n",
              "  'August 14, 1945'],\n",
              " 'Links': ['https://quotes.toscrape.com/author/Albert-Einstein',\n",
              "  'https://quotes.toscrape.com/author/J-K-Rowling',\n",
              "  'https://quotes.toscrape.com/author/Albert-Einstein',\n",
              "  'https://quotes.toscrape.com/author/Jane-Austen',\n",
              "  'https://quotes.toscrape.com/author/Marilyn-Monroe',\n",
              "  'https://quotes.toscrape.com/author/Albert-Einstein',\n",
              "  'https://quotes.toscrape.com/author/Andre-Gide',\n",
              "  'https://quotes.toscrape.com/author/Thomas-A-Edison',\n",
              "  'https://quotes.toscrape.com/author/Eleanor-Roosevelt',\n",
              "  'https://quotes.toscrape.com/author/Steve-Martin'],\n",
              " 'Quote_Tag': [['change', 'deep-thoughts', 'thinking', 'world'],\n",
              "  ['abilities', 'choices'],\n",
              "  ['inspirational', 'life', 'live', 'miracle', 'miracles'],\n",
              "  ['aliteracy', 'books', 'classic', 'humor'],\n",
              "  ['be-yourself', 'inspirational'],\n",
              "  ['adulthood', 'success', 'value'],\n",
              "  ['life', 'love'],\n",
              "  ['edison', 'failure', 'inspirational', 'paraphrased'],\n",
              "  ['misattributed-eleanor-roosevelt'],\n",
              "  ['humor', 'obvious', 'simile']],\n",
              " 'Quotes': ['“The world as we have created it is a process of our thinking. It cannot be changed without changing our thinking.”',\n",
              "  '“It is our choices, Harry, that show what we truly are, far more than our abilities.”',\n",
              "  '“There are only two ways to live your life. One is as though nothing is a miracle. The other is as though everything is a miracle.”',\n",
              "  '“The person, be it gentleman or lady, who has not pleasure in a good novel, must be intolerably stupid.”',\n",
              "  \"“Imperfection is beauty, madness is genius and it's better to be absolutely ridiculous than absolutely boring.”\",\n",
              "  '“Try not to become a man of success. Rather become a man of value.”',\n",
              "  '“It is better to be hated for what you are than to be loved for what you are not.”',\n",
              "  \"“I have not failed. I've just found 10,000 ways that won't work.”\",\n",
              "  \"“A woman is like a tea bag; you never know how strong it is until it's in hot water.”\",\n",
              "  '“A day without sunshine is like, you know, night.”']}"
            ]
          },
          "metadata": {},
          "execution_count": 27
        }
      ]
    },
    {
      "cell_type": "code",
      "metadata": {
        "id": "s9wWRBNa2Vm7"
      },
      "source": [
        ""
      ],
      "execution_count": null,
      "outputs": []
    },
    {
      "cell_type": "markdown",
      "metadata": {
        "id": "lJRX0SQ22kYA"
      },
      "source": [
        "# Pagenation\n",
        "### We are going to use for loop to iterate through every webpage and get the quote"
      ]
    },
    {
      "cell_type": "code",
      "metadata": {
        "colab": {
          "base_uri": "https://localhost:8080/",
          "height": 287
        },
        "id": "KC6BQ_u53N-g",
        "outputId": "3c808706-f85a-4a9c-9ebe-022aa50632e9"
      },
      "source": [
        "quote_texts = []\n",
        "authornames = []\n",
        "tags = []\n",
        "bio_links = []\n",
        "date_of_births = []\n",
        "birth_places = []\n",
        "quote_dict = {}\n",
        "for i in range(11):\n",
        "  url = f'https://quotes.toscrape.com/page/{i}/'\n",
        "\n",
        "  quote_post = quote_scraper(url)  # returns a dictionary and saves it to quote_post\n",
        "\n",
        "  # Slice out each item from the dictionary using and save it to the list variable \n",
        "  quote_texts += quote_post['Quotes']  \n",
        "  authornames += quote_post['Author_Name']\n",
        "  tags += quote_post['Quote_Tag']\n",
        "  bio_links += quote_post['Links']\n",
        "  date_of_births += quote_post['Date Of Birth']\n",
        "  birth_places += quote_post['BirthPlace']\n",
        "\n",
        "# save to a dict\n",
        "quote_dict ={'Quotes':quote_texts, 'Author_Name':authornames, 'Quote_Tag':tags, 'Links':bio_links, 'Date Of Birth':date_of_births, 'BirthPlace':birth_places}\n",
        "# write to a pandas Dataframe\n",
        "quote_df = pd.DataFrame(quote_dict)\n",
        "quote_df.head() # print out the first few lines of the dataframe"
      ],
      "execution_count": 28,
      "outputs": [
        {
          "output_type": "execute_result",
          "data": {
            "text/html": [
              "<div>\n",
              "<style scoped>\n",
              "    .dataframe tbody tr th:only-of-type {\n",
              "        vertical-align: middle;\n",
              "    }\n",
              "\n",
              "    .dataframe tbody tr th {\n",
              "        vertical-align: top;\n",
              "    }\n",
              "\n",
              "    .dataframe thead th {\n",
              "        text-align: right;\n",
              "    }\n",
              "</style>\n",
              "<table border=\"1\" class=\"dataframe\">\n",
              "  <thead>\n",
              "    <tr style=\"text-align: right;\">\n",
              "      <th></th>\n",
              "      <th>Quotes</th>\n",
              "      <th>Author_Name</th>\n",
              "      <th>Quote_Tag</th>\n",
              "      <th>Links</th>\n",
              "      <th>Date Of Birth</th>\n",
              "      <th>BirthPlace</th>\n",
              "    </tr>\n",
              "  </thead>\n",
              "  <tbody>\n",
              "    <tr>\n",
              "      <th>0</th>\n",
              "      <td>“The world as we have created it is a process ...</td>\n",
              "      <td>Albert Einstein</td>\n",
              "      <td>[change, deep-thoughts, thinking, world]</td>\n",
              "      <td>https://quotes.toscrape.com/author/Albert-Eins...</td>\n",
              "      <td>March 14, 1879</td>\n",
              "      <td>Ulm, Germany</td>\n",
              "    </tr>\n",
              "    <tr>\n",
              "      <th>1</th>\n",
              "      <td>“It is our choices, Harry, that show what we t...</td>\n",
              "      <td>J.K. Rowling</td>\n",
              "      <td>[abilities, choices]</td>\n",
              "      <td>https://quotes.toscrape.com/author/J-K-Rowling</td>\n",
              "      <td>July 31, 1965</td>\n",
              "      <td>Yate, South Gloucestershire, England, The Unit...</td>\n",
              "    </tr>\n",
              "    <tr>\n",
              "      <th>2</th>\n",
              "      <td>“There are only two ways to live your life. On...</td>\n",
              "      <td>Albert Einstein</td>\n",
              "      <td>[inspirational, life, live, miracle, miracles]</td>\n",
              "      <td>https://quotes.toscrape.com/author/Albert-Eins...</td>\n",
              "      <td>March 14, 1879</td>\n",
              "      <td>Ulm, Germany</td>\n",
              "    </tr>\n",
              "    <tr>\n",
              "      <th>3</th>\n",
              "      <td>“The person, be it gentleman or lady, who has ...</td>\n",
              "      <td>Jane Austen</td>\n",
              "      <td>[aliteracy, books, classic, humor]</td>\n",
              "      <td>https://quotes.toscrape.com/author/Jane-Austen</td>\n",
              "      <td>December 16, 1775</td>\n",
              "      <td>Steventon Rectory, Hampshire, The United Kingdom</td>\n",
              "    </tr>\n",
              "    <tr>\n",
              "      <th>4</th>\n",
              "      <td>“Imperfection is beauty, madness is genius and...</td>\n",
              "      <td>Marilyn Monroe</td>\n",
              "      <td>[be-yourself, inspirational]</td>\n",
              "      <td>https://quotes.toscrape.com/author/Marilyn-Monroe</td>\n",
              "      <td>June 01, 1926</td>\n",
              "      <td>The United States</td>\n",
              "    </tr>\n",
              "  </tbody>\n",
              "</table>\n",
              "</div>"
            ],
            "text/plain": [
              "                                              Quotes  ...                                         BirthPlace\n",
              "0  “The world as we have created it is a process ...  ...                                       Ulm, Germany\n",
              "1  “It is our choices, Harry, that show what we t...  ...  Yate, South Gloucestershire, England, The Unit...\n",
              "2  “There are only two ways to live your life. On...  ...                                       Ulm, Germany\n",
              "3  “The person, be it gentleman or lady, who has ...  ...   Steventon Rectory, Hampshire, The United Kingdom\n",
              "4  “Imperfection is beauty, madness is genius and...  ...                                  The United States\n",
              "\n",
              "[5 rows x 6 columns]"
            ]
          },
          "metadata": {},
          "execution_count": 28
        }
      ]
    },
    {
      "cell_type": "code",
      "metadata": {
        "colab": {
          "base_uri": "https://localhost:8080/",
          "height": 635
        },
        "id": "eqmVvPZd4rQU",
        "outputId": "fbfdae50-204f-4557-f165-2c710d72673d"
      },
      "source": [
        "quote_df # prints out all the data in the dataframe"
      ],
      "execution_count": 29,
      "outputs": [
        {
          "output_type": "execute_result",
          "data": {
            "text/html": [
              "<div>\n",
              "<style scoped>\n",
              "    .dataframe tbody tr th:only-of-type {\n",
              "        vertical-align: middle;\n",
              "    }\n",
              "\n",
              "    .dataframe tbody tr th {\n",
              "        vertical-align: top;\n",
              "    }\n",
              "\n",
              "    .dataframe thead th {\n",
              "        text-align: right;\n",
              "    }\n",
              "</style>\n",
              "<table border=\"1\" class=\"dataframe\">\n",
              "  <thead>\n",
              "    <tr style=\"text-align: right;\">\n",
              "      <th></th>\n",
              "      <th>Quotes</th>\n",
              "      <th>Author_Name</th>\n",
              "      <th>Quote_Tag</th>\n",
              "      <th>Links</th>\n",
              "      <th>Date Of Birth</th>\n",
              "      <th>BirthPlace</th>\n",
              "    </tr>\n",
              "  </thead>\n",
              "  <tbody>\n",
              "    <tr>\n",
              "      <th>0</th>\n",
              "      <td>“The world as we have created it is a process ...</td>\n",
              "      <td>Albert Einstein</td>\n",
              "      <td>[change, deep-thoughts, thinking, world]</td>\n",
              "      <td>https://quotes.toscrape.com/author/Albert-Eins...</td>\n",
              "      <td>March 14, 1879</td>\n",
              "      <td>Ulm, Germany</td>\n",
              "    </tr>\n",
              "    <tr>\n",
              "      <th>1</th>\n",
              "      <td>“It is our choices, Harry, that show what we t...</td>\n",
              "      <td>J.K. Rowling</td>\n",
              "      <td>[abilities, choices]</td>\n",
              "      <td>https://quotes.toscrape.com/author/J-K-Rowling</td>\n",
              "      <td>July 31, 1965</td>\n",
              "      <td>Yate, South Gloucestershire, England, The Unit...</td>\n",
              "    </tr>\n",
              "    <tr>\n",
              "      <th>2</th>\n",
              "      <td>“There are only two ways to live your life. On...</td>\n",
              "      <td>Albert Einstein</td>\n",
              "      <td>[inspirational, life, live, miracle, miracles]</td>\n",
              "      <td>https://quotes.toscrape.com/author/Albert-Eins...</td>\n",
              "      <td>March 14, 1879</td>\n",
              "      <td>Ulm, Germany</td>\n",
              "    </tr>\n",
              "    <tr>\n",
              "      <th>3</th>\n",
              "      <td>“The person, be it gentleman or lady, who has ...</td>\n",
              "      <td>Jane Austen</td>\n",
              "      <td>[aliteracy, books, classic, humor]</td>\n",
              "      <td>https://quotes.toscrape.com/author/Jane-Austen</td>\n",
              "      <td>December 16, 1775</td>\n",
              "      <td>Steventon Rectory, Hampshire, The United Kingdom</td>\n",
              "    </tr>\n",
              "    <tr>\n",
              "      <th>4</th>\n",
              "      <td>“Imperfection is beauty, madness is genius and...</td>\n",
              "      <td>Marilyn Monroe</td>\n",
              "      <td>[be-yourself, inspirational]</td>\n",
              "      <td>https://quotes.toscrape.com/author/Marilyn-Monroe</td>\n",
              "      <td>June 01, 1926</td>\n",
              "      <td>The United States</td>\n",
              "    </tr>\n",
              "    <tr>\n",
              "      <th>...</th>\n",
              "      <td>...</td>\n",
              "      <td>...</td>\n",
              "      <td>...</td>\n",
              "      <td>...</td>\n",
              "      <td>...</td>\n",
              "      <td>...</td>\n",
              "    </tr>\n",
              "    <tr>\n",
              "      <th>95</th>\n",
              "      <td>“You never really understand a person until yo...</td>\n",
              "      <td>Harper Lee</td>\n",
              "      <td>[better-life-empathy]</td>\n",
              "      <td>https://quotes.toscrape.com/author/Harper-Lee</td>\n",
              "      <td>April 28, 1926</td>\n",
              "      <td>Monroeville, Alabama, The United States</td>\n",
              "    </tr>\n",
              "    <tr>\n",
              "      <th>96</th>\n",
              "      <td>“You have to write the book that wants to be w...</td>\n",
              "      <td>Madeleine L'Engle</td>\n",
              "      <td>[books, children, difficult, grown-ups, write,...</td>\n",
              "      <td>https://quotes.toscrape.com/author/Madeleine-L...</td>\n",
              "      <td>November 29, 1918</td>\n",
              "      <td>New York City, New York, The United States</td>\n",
              "    </tr>\n",
              "    <tr>\n",
              "      <th>97</th>\n",
              "      <td>“Never tell the truth to people who are not wo...</td>\n",
              "      <td>Mark Twain</td>\n",
              "      <td>[truth]</td>\n",
              "      <td>https://quotes.toscrape.com/author/Mark-Twain</td>\n",
              "      <td>November 30, 1835</td>\n",
              "      <td>Florida, Missouri, The United States</td>\n",
              "    </tr>\n",
              "    <tr>\n",
              "      <th>98</th>\n",
              "      <td>“A person's a person, no matter how small.”</td>\n",
              "      <td>Dr. Seuss</td>\n",
              "      <td>[inspirational]</td>\n",
              "      <td>https://quotes.toscrape.com/author/Dr-Seuss</td>\n",
              "      <td>March 02, 1904</td>\n",
              "      <td>Springfield, MA, The United States</td>\n",
              "    </tr>\n",
              "    <tr>\n",
              "      <th>99</th>\n",
              "      <td>“... a mind needs books as a sword needs a whe...</td>\n",
              "      <td>George R.R. Martin</td>\n",
              "      <td>[books, mind]</td>\n",
              "      <td>https://quotes.toscrape.com/author/George-R-R-...</td>\n",
              "      <td>September 20, 1948</td>\n",
              "      <td>Bayonne, New Jersey, The United States</td>\n",
              "    </tr>\n",
              "  </tbody>\n",
              "</table>\n",
              "<p>100 rows × 6 columns</p>\n",
              "</div>"
            ],
            "text/plain": [
              "                                               Quotes  ...                                         BirthPlace\n",
              "0   “The world as we have created it is a process ...  ...                                       Ulm, Germany\n",
              "1   “It is our choices, Harry, that show what we t...  ...  Yate, South Gloucestershire, England, The Unit...\n",
              "2   “There are only two ways to live your life. On...  ...                                       Ulm, Germany\n",
              "3   “The person, be it gentleman or lady, who has ...  ...   Steventon Rectory, Hampshire, The United Kingdom\n",
              "4   “Imperfection is beauty, madness is genius and...  ...                                  The United States\n",
              "..                                                ...  ...                                                ...\n",
              "95  “You never really understand a person until yo...  ...            Monroeville, Alabama, The United States\n",
              "96  “You have to write the book that wants to be w...  ...         New York City, New York, The United States\n",
              "97  “Never tell the truth to people who are not wo...  ...               Florida, Missouri, The United States\n",
              "98        “A person's a person, no matter how small.”  ...                 Springfield, MA, The United States\n",
              "99  “... a mind needs books as a sword needs a whe...  ...             Bayonne, New Jersey, The United States\n",
              "\n",
              "[100 rows x 6 columns]"
            ]
          },
          "metadata": {},
          "execution_count": 29
        }
      ]
    },
    {
      "cell_type": "code",
      "metadata": {
        "colab": {
          "base_uri": "https://localhost:8080/"
        },
        "id": "dVh-AcR6Ofy8",
        "outputId": "29e52b03-b9af-4468-cbac-3e0d5d2bf529"
      },
      "source": [
        "quote_df.size # return the size of the dataframe"
      ],
      "execution_count": 30,
      "outputs": [
        {
          "output_type": "execute_result",
          "data": {
            "text/plain": [
              "600"
            ]
          },
          "metadata": {},
          "execution_count": 30
        }
      ]
    },
    {
      "cell_type": "code",
      "metadata": {
        "colab": {
          "base_uri": "https://localhost:8080/"
        },
        "id": "vugOpooqFdDp",
        "outputId": "a82f4009-2185-470c-e972-e12b241237bd"
      },
      "source": [
        "quote_df.shape # return the total rows and columns"
      ],
      "execution_count": 31,
      "outputs": [
        {
          "output_type": "execute_result",
          "data": {
            "text/plain": [
              "(100, 6)"
            ]
          },
          "metadata": {},
          "execution_count": 31
        }
      ]
    },
    {
      "cell_type": "code",
      "metadata": {
        "id": "bqOuSAGsthgy"
      },
      "source": [
        "quote_df.to_csv('Scrape_to_data.csv',index=False)"
      ],
      "execution_count": 32,
      "outputs": []
    },
    {
      "cell_type": "code",
      "metadata": {
        "colab": {
          "base_uri": "https://localhost:8080/",
          "height": 86
        },
        "id": "KlHqQV-KOvmX",
        "outputId": "f55d1e0d-358d-4f9d-ae0b-9be3f089b9cc"
      },
      "source": [
        "jovian.commit()"
      ],
      "execution_count": 33,
      "outputs": [
        {
          "output_type": "stream",
          "name": "stdout",
          "text": [
            "[jovian] Detected Colab notebook...\u001b[0m\n",
            "[jovian] Uploading colab notebook to Jovian...\u001b[0m\n",
            "Committed successfully! https://jovian.ai/sylvesterchuks/quotes-to-scrape\n"
          ]
        },
        {
          "output_type": "execute_result",
          "data": {
            "application/vnd.google.colaboratory.intrinsic+json": {
              "type": "string"
            },
            "text/plain": [
              "'https://jovian.ai/sylvesterchuks/quotes-to-scrape'"
            ]
          },
          "metadata": {},
          "execution_count": 33
        }
      ]
    },
    {
      "cell_type": "code",
      "metadata": {
        "id": "ZdRTVfrQPlMA"
      },
      "source": [
        ""
      ],
      "execution_count": null,
      "outputs": []
    }
  ]
}